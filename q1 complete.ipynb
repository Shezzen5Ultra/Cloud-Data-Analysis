{
 "cells": [
  {
   "cell_type": "markdown",
   "id": "e5905a69",
   "metadata": {},
   "source": [
    "# CSE6242 - HW3 - Q1"
   ]
  },
  {
   "cell_type": "markdown",
   "id": "ddc5717e-fb7f-415c-ae02-16459c544fa4",
   "metadata": {},
   "source": [
    "<div class=\"alert alert-block alert-danger\">\n",
    "    WARNING: Do <strong>NOT</strong> remove any comment that says \"#export\" because that will crash the autograder in Gradescope. We use this comment to export your code in these cells for grading.\n",
    "</div>"
   ]
  },
  {
   "cell_type": "markdown",
   "id": "09289981",
   "metadata": {},
   "source": [
    "Pyspark Imports"
   ]
  },
  {
   "cell_type": "code",
   "execution_count": 1,
   "id": "139318cb",
   "metadata": {},
   "outputs": [],
   "source": [
    "#export\n",
    "### DO NOT MODIFY THIS CELL ###\n",
    "import pyspark\n",
    "from pyspark.sql import SQLContext\n",
    "from pyspark.sql.functions import hour, when, col, date_format, to_timestamp, ceil, coalesce"
   ]
  },
  {
   "cell_type": "markdown",
   "id": "3fd9e0f8",
   "metadata": {},
   "source": [
    "Initialize PySpark Context"
   ]
  },
  {
   "cell_type": "code",
   "execution_count": 2,
   "id": "b0c18c6c",
   "metadata": {},
   "outputs": [
    {
     "name": "stderr",
     "output_type": "stream",
     "text": [
      "C:\\Users\\PC\\anaconda4\\Lib\\site-packages\\pyspark\\sql\\context.py:113: FutureWarning: Deprecated in 3.0.0. Use SparkSession.builder.getOrCreate() instead.\n",
      "  warnings.warn(\n"
     ]
    }
   ],
   "source": [
    "### DO NOT MODIFY THIS CELL ###\n",
    "sc = pyspark.SparkContext(appName=\"HW3-Q1\")\n",
    "sqlContext = SQLContext(sc)"
   ]
  },
  {
   "cell_type": "markdown",
   "id": "d68ae314",
   "metadata": {},
   "source": [
    "Define function for loading data"
   ]
  },
  {
   "cell_type": "code",
   "execution_count": 3,
   "id": "7e5bbdda",
   "metadata": {},
   "outputs": [],
   "source": [
    "### DO NOT MODIFY THIS CELL ###\n",
    "def load_data():\n",
    "    df = sqlContext.read.option(\"header\",True) \\\n",
    "     .csv(\"yellow_tripdata_2019-01_short.csv\")\n",
    "    return df"
   ]
  },
  {
   "cell_type": "markdown",
   "id": "0d52409d",
   "metadata": {},
   "source": [
    "### Q1.a"
   ]
  },
  {
   "cell_type": "markdown",
   "id": "e43f6e00",
   "metadata": {},
   "source": [
    "Perform data casting to clean incoming dataset"
   ]
  },
  {
   "cell_type": "code",
   "execution_count": 4,
   "id": "11f801b4",
   "metadata": {},
   "outputs": [],
   "source": [
    "#export\n",
    "def clean_data(df):\n",
    "    '''\n",
    "    input: df a dataframe\n",
    "    output: df a dataframe with the all the original columns\n",
    "    '''\n",
    "    \n",
    "    # Handling missing values\n",
    "    df = df.dropna(subset=['congestion_surcharge'])  # Drop rows with missing values in 'congestion_surcharge'\n",
    "    \n",
    "    # Handling date/time\n",
    "    df = df.withColumn('pickup_datetime', to_timestamp(col('tpep_pickup_datetime'), format='yyyy-MM-dd HH:mm:ss'))  # Convert pickup datetime to timestamp\n",
    "    df = df.withColumn('dropoff_datetime', to_timestamp(col('tpep_dropoff_datetime'), format='yyyy-MM-dd HH:mm:ss'))  # Convert dropoff datetime to timestamp\n",
    "    df = df.drop('tpep_pickup_datetime', 'tpep_dropoff_datetime')  # Drop original datetime columns\n",
    "    \n",
    "    # Handle data types\n",
    "    df = df.withColumn('passenger_count', col('passenger_count').cast('int'))  # Cast passenger_count to integer\n",
    "    df = df.withColumn('total_amount', col('total_amount').cast('float'))  # Cast total_amount to float\n",
    "    df = df.withColumn('tip_amount', col('tip_amount').cast('float'))  # Cast tip_amount to float\n",
    "    df = df.withColumn('trip_distance', col('trip_distance').cast('float'))  # Cast trip_distance to float\n",
    "    df = df.withColumn('fare_amount', col('fare_amount').cast('float'))  # Cast fare_amount to float\n",
    "    \n",
    "    return df"
   ]
  },
  {
   "cell_type": "markdown",
   "id": "d4f565d0",
   "metadata": {},
   "source": [
    "### Q1.b"
   ]
  },
  {
   "cell_type": "markdown",
   "id": "72b4f712",
   "metadata": {},
   "source": [
    "Find rate per person for based on how many passengers travel between pickup and dropoff locations. "
   ]
  },
  {
   "cell_type": "code",
   "execution_count": 5,
   "id": "4e115152",
   "metadata": {},
   "outputs": [],
   "source": [
    "#export\n",
    "from pyspark.sql.functions import count, sum, col, avg\n",
    "def common_pair(df):\n",
    "    '''\n",
    "    input: df a dataframe\n",
    "    output: df a dataframe with following columns:\n",
    "            - PULocationID\n",
    "            - DOLocationID\n",
    "            - total_passenger_count\n",
    "            - per_person_rate\n",
    "            \n",
    "    per_person_rate is the total_amount per person for a given pair.\n",
    "    \n",
    "    '''\n",
    "    # Group by pickup and dropoff location\n",
    "    grouped_df = df.groupBy('PULocationID', 'DOLocationID')\n",
    "    \n",
    "    # Calculate total passengers and total amount per pair\n",
    "    grouped_df = grouped_df.agg(\n",
    "      count(col('passenger_count')).alias('total_passenger_count'),\n",
    "      sum(col('fare_amount')).alias('total_amount')\n",
    "    )\n",
    "    \n",
    "    # Calculate per-person rate (average fare amount per passenger)\n",
    "    grouped_df = grouped_df.withColumn('per_person_rate', col('total_amount') / col('total_passenger_count'))\n",
    "    \n",
    "    return grouped_df.select('PULocationID', 'DOLocationID', 'total_passenger_count', 'per_person_rate')"
   ]
  },
  {
   "cell_type": "markdown",
   "id": "127574ab",
   "metadata": {},
   "source": [
    "### Q1.c"
   ]
  },
  {
   "cell_type": "markdown",
   "id": "36a8fd27",
   "metadata": {},
   "source": [
    "Find trips which trip distances generate the highest tip percentage."
   ]
  },
  {
   "cell_type": "code",
   "execution_count": 6,
   "id": "376c981c",
   "metadata": {},
   "outputs": [],
   "source": [
    "#export\n",
    "def distance_with_most_tip(df):\n",
    "    '''\n",
    "    input: df a dataframe\n",
    "    output: df a dataframe with following columns:\n",
    "            - trip_distance\n",
    "            - tip_percent\n",
    "            \n",
    "    trip_percent is the percent of tip out of fare_amount\n",
    "    \n",
    "    '''\n",
    "    # Add a new column for tip percentage\n",
    "    df = df.withColumn('tip_percent', (col('tip_amount') / col('fare_amount')) * 100)\n",
    "    \n",
    "    # Group by trip distance and calculate average tip percentage\n",
    "    avg_tip_by_distance = df.groupBy('trip_distance').agg(\n",
    "      avg(col('tip_percent')).alias('avg_tip_percent')\n",
    "    )\n",
    "    \n",
    "    return avg_tip_by_distance.select('trip_distance', 'avg_tip_percent')"
   ]
  },
  {
   "cell_type": "markdown",
   "id": "f0172fe6",
   "metadata": {},
   "source": [
    "### Q1.d"
   ]
  },
  {
   "cell_type": "markdown",
   "id": "4613c906",
   "metadata": {},
   "source": [
    "Determine the average speed at different times of day."
   ]
  },
  {
   "cell_type": "code",
   "execution_count": 7,
   "id": "abff9e24",
   "metadata": {},
   "outputs": [],
   "source": [
    "#export\n",
    "def time_with_most_traffic(df):\n",
    "    '''\n",
    "    input: df a dataframe\n",
    "    output: df a dataframe with following columns:\n",
    "            - time_of_day\n",
    "            - am_avg_speed\n",
    "            - pm_avg_speed\n",
    "            \n",
    "    trip_percent is the percent of tip out of fare_amount\n",
    "    \n",
    "    '''\n",
    "    # Extract hour of the day from the pickup datetime\n",
    "    df = df.withColumn('hour_of_day', hour(col('pickup_datetime')))\n",
    "    \n",
    "    # Define AM/PM categories\n",
    "    am_pm = when(col('hour_of_day') < 12, 'AM').otherwise('PM')\n",
    "    df = df.withColumn('time_of_day', am_pm)\n",
    "    \n",
    "    # Calculate speed\n",
    "    df = df.withColumn('speed', (col('trip_distance') / (col('dropoff_datetime').cast('long') - col('pickup_datetime').cast('long'))))\n",
    "    \n",
    "    # Group by AM/PM and calculate average speed\n",
    "    avg_speed_by_time = df.groupBy('time_of_day').agg(\n",
    "      avg(col('speed')).alias('avg_speed')\n",
    "    )\n",
    "    \n",
    "    return avg_speed_by_time"
   ]
  },
  {
   "cell_type": "markdown",
   "id": "d40b4e83-0f93-4637-bc3b-34f9fbb9f249",
   "metadata": {},
   "source": [
    "## The below cells are for you to investigate your solutions and will not be graded"
   ]
  },
  {
   "cell_type": "code",
   "execution_count": 8,
   "id": "e3b238c9-7bc7-458a-a3d8-8ce2d686418a",
   "metadata": {},
   "outputs": [],
   "source": [
    "df = load_data()\n",
    "df = clean_data(df)"
   ]
  },
  {
   "cell_type": "code",
   "execution_count": 9,
   "id": "7bbab81e-2317-4b4e-b25a-88f3110a94f8",
   "metadata": {},
   "outputs": [
    {
     "name": "stdout",
     "output_type": "stream",
     "text": [
      "+------------+------------+---------------------+---------------+\n",
      "|PULocationID|DOLocationID|total_passenger_count|per_person_rate|\n",
      "+------------+------------+---------------------+---------------+\n",
      "+------------+------------+---------------------+---------------+\n",
      "\n"
     ]
    }
   ],
   "source": [
    "common_pair(df).show()"
   ]
  },
  {
   "cell_type": "code",
   "execution_count": 10,
   "id": "bf7dd12b-4b60-407b-9c52-5b7cb2082cb8",
   "metadata": {},
   "outputs": [
    {
     "name": "stdout",
     "output_type": "stream",
     "text": [
      "+-------------+---------------+\n",
      "|trip_distance|avg_tip_percent|\n",
      "+-------------+---------------+\n",
      "+-------------+---------------+\n",
      "\n"
     ]
    }
   ],
   "source": [
    "distance_with_most_tip(df).show()"
   ]
  },
  {
   "cell_type": "code",
   "execution_count": 11,
   "id": "a02723df-2490-4234-9292-eea7cebb08ff",
   "metadata": {},
   "outputs": [
    {
     "name": "stdout",
     "output_type": "stream",
     "text": [
      "+-----------+---------+\n",
      "|time_of_day|avg_speed|\n",
      "+-----------+---------+\n",
      "+-----------+---------+\n",
      "\n"
     ]
    }
   ],
   "source": [
    "time_with_most_traffic(df).show()"
   ]
  }
 ],
 "metadata": {
  "kernelspec": {
   "display_name": "Python 3 (ipykernel)",
   "language": "python",
   "name": "python3"
  },
  "language_info": {
   "codemirror_mode": {
    "name": "ipython",
    "version": 3
   },
   "file_extension": ".py",
   "mimetype": "text/x-python",
   "name": "python",
   "nbconvert_exporter": "python",
   "pygments_lexer": "ipython3",
   "version": "3.11.7"
  }
 },
 "nbformat": 4,
 "nbformat_minor": 5
}
